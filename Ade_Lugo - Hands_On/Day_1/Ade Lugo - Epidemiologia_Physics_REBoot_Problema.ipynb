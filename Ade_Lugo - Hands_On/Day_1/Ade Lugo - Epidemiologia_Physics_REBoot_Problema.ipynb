{
 "cells": [
  {
   "cell_type": "code",
   "execution_count": 37,
   "id": "47b4558d",
   "metadata": {},
   "outputs": [
    {
     "name": "stdout",
     "output_type": "stream",
     "text": [
      "MODELO SIR\n"
     ]
    }
   ],
   "source": [
    "print('MODELO SIR')"
   ]
  },
  {
   "cell_type": "code",
   "execution_count": 38,
   "id": "2c438cbb",
   "metadata": {},
   "outputs": [],
   "source": [
    "import numpy as np\n",
    "from scipy.integrate import odeint\n",
    "import matplotlib.pyplot as plt"
   ]
  },
  {
   "cell_type": "code",
   "execution_count": 39,
   "id": "9a9d1215",
   "metadata": {},
   "outputs": [],
   "source": [
    "# Se definen los parámetros iniciales\n",
    "\n",
    "N = 1000 # población total\n",
    "I0 = 1 # personas infectadas\n",
    "R0 = 0 # personan susceptibles\n",
    "S0 = N - I0 - R0 # personas iniciales\n",
    "b = 0.2\n",
    "g = 1./10"
   ]
  },
  {
   "cell_type": "code",
   "execution_count": 77,
   "id": "86c3ff86",
   "metadata": {},
   "outputs": [],
   "source": [
    "# Definición para la evolución temporal\n",
    "\n",
    "dias_t = 100 # número total de días (stop)\n",
    "num = 100 # número de puntos \n",
    "\n",
    "# Inicializar array\n",
    "\n",
    "t = np.linspace(0, dias_t, num)"
   ]
  },
  {
   "cell_type": "code",
   "execution_count": 78,
   "id": "b8f8e248",
   "metadata": {},
   "outputs": [],
   "source": [
    "# Definición para la función Y\n",
    "\n",
    "def Y(y, t, b, g):\n",
    "    # Vectores variable\n",
    "    S = y[0]\n",
    "    I = y[1]\n",
    "    R = y[2]\n",
    "    # Vectores derivada\n",
    "    dS = -b*y[0]*y[1]/N\n",
    "    dI = b*y[0]*y[1]/N - g*y[1]\n",
    "    dR = g*y[1]\n",
    "    return dS, dI, dR\n",
    "\n",
    "# Creación del vector de condiciones iniciales\n",
    "\n",
    "y0 = [S0, I0, R0]"
   ]
  },
  {
   "cell_type": "code",
   "execution_count": 79,
   "id": "024d550d",
   "metadata": {},
   "outputs": [],
   "source": [
    "# Definición de las soluciones\n",
    "\n",
    "ret = odeint(Y, y0, t, args=(b, g))\n",
    "S, I, R = ret.T"
   ]
  },
  {
   "cell_type": "code",
   "execution_count": 80,
   "id": "1b43cade",
   "metadata": {},
   "outputs": [
    {
     "data": {
      "image/png": "[encoded data removed]",
      "text/plain": [
       "<Figure size 432x288 with 1 Axes>"
      ]
     },
     "metadata": {},
     "output_type": "display_data"
    }
   ],
   "source": [
    "# Graficación\n",
    "\n",
    "fig = plt.figure(facecolor='w')\n",
    "ax = fig.add_subplot(111, facecolor='#dddddd', axisbelow=True)\n",
    "\n",
    "ax.plot(t, S/1000, 'b', alpha=0.5, lw=2, label='Susceptible') # Variable S vs t\n",
    "ax.plot(t, I/1000, 'r', alpha=0.5, lw=2, label='Infected') # Variable I vs t\n",
    "ax.plot(t, R/1000, 'g', alpha=0.5, lw=2, label='Recovered with immunity') # Variable R vs t\n",
    "\n",
    "ax.set_xlabel('Time/days')\n",
    "ax.set_ylabel('Number (1000s)')\n",
    "ax.set_ylim(0,1.2)\n",
    "ax.yaxis.set_tick_params(length=0)\n",
    "ax.xaxis.set_tick_params(length=0)\n",
    "ax.grid(b=True, which='major', c='w', lw=2, ls='-')\n",
    "\n",
    "legend = ax.legend()\n",
    "legend.get_frame().set_alpha(0.5)\n",
    "\n",
    "for spine in ('top', 'right', 'bottom', 'left'):\n",
    "    ax.spines[spine].set_visible(False)\n",
    "    \n",
    "plt.show()   "
   ]
  },
  {
   "cell_type": "code",
   "execution_count": 44,
   "id": "a87f77f7",
   "metadata": {},
   "outputs": [
    {
     "name": "stdout",
     "output_type": "stream",
     "text": [
      "MODELO SEIR\n"
     ]
    }
   ],
   "source": [
    "print('MODELO SEIR')"
   ]
  },
  {
   "cell_type": "code",
   "execution_count": 45,
   "id": "62d97497",
   "metadata": {},
   "outputs": [],
   "source": [
    "# Ya las librerías se encuentran importadas"
   ]
  },
  {
   "cell_type": "code",
   "execution_count": 59,
   "id": "56cf274d",
   "metadata": {},
   "outputs": [],
   "source": [
    "# Definición de constantes\n",
    "\n",
    "b = 0.2\n",
    "g = 1./10\n",
    "mu = 4.6e-5\n",
    "nu = 1.8e-4\n",
    "al = 0.006\n",
    "\n",
    "# Definición de condiciones iniciales\n",
    "\n",
    "N = 1000\n",
    "E0 = 0\n",
    "I0 = 1\n",
    "R0 = 0\n",
    "S0 = N- E0 - I0 - R0\n",
    "\n",
    "Tamano_grid = 100 # días totales\n",
    "Step = 100 # número de puntos\n",
    "t = np.linspace(0, Tamano_grid, Step)"
   ]
  },
  {
   "cell_type": "code",
   "execution_count": 64,
   "id": "8edc8977",
   "metadata": {},
   "outputs": [],
   "source": [
    "# Definición para la función X\n",
    "\n",
    "def X(y, t, b, g, mu, nu, al):\n",
    "    # Vectores variable\n",
    "    S = y[0]\n",
    "    E = y[1]\n",
    "    I = y[2]\n",
    "    R = y[3]\n",
    "    # Vectores derivada\n",
    "    dS = -b*y[0]*y[2] + nu*N - mu*y[0]\n",
    "    dE = b*y[0]*y[2] - al*y[1] - mu*y[1]\n",
    "    dI = al*y[1] - g*y[2] - mu*y[2]\n",
    "    dR = g*y[2] - mu*y[3]\n",
    "    return dS, dE, dI, dR\n",
    "\n",
    "# Creación del vector de condiciones iniciales\n",
    "\n",
    "y0 = S0, E0, I0, R0"
   ]
  },
  {
   "cell_type": "code",
   "execution_count": 65,
   "id": "91fd281b",
   "metadata": {},
   "outputs": [],
   "source": [
    "# Definición de las soluciones\n",
    "\n",
    "ret = odeint(X, y0, t, args=(b, g, mu, nu, al))\n",
    "S, E, I, R = ret.T"
   ]
  },
  {
   "cell_type": "code",
   "execution_count": 67,
   "id": "f74309bb",
   "metadata": {},
   "outputs": [
    {
     "data": {
      "image/png": "[encoded data removed]",
      "text/plain": [
       "<Figure size 432x288 with 1 Axes>"
      ]
     },
     "metadata": {},
     "output_type": "display_data"
    }
   ],
   "source": [
    "# Graficación\n",
    "\n",
    "fig = plt.figure(facecolor='w')\n",
    "ax = fig.add_subplot(111, facecolor='#dddddd', axisbelow=True)\n",
    "\n",
    "ax.plot(t, S/1000, 'b', alpha=0.5, lw=2, label='Susceptible') \n",
    "ax.plot(t, E/1000, 'g', alpha=0.5, lw=2, label='Exposed') \n",
    "ax.plot(t, I/1000, 'r', alpha=0.5, lw=2, label='Infected') \n",
    "ax.plot(t, R/1000, 'm', alpha=0.5, lw=2, label='Recovered with immunity')\n",
    "ax.plot(t, (S+E+I+R)/1000, 'k', alpha=0.5, lw=2, label='Population')\n",
    "\n",
    "ax.set_xlabel('Time/days')\n",
    "ax.set_ylabel('Number (1000s)')\n",
    "ax.set_ylim(0,1.2)\n",
    "\n",
    "ax.yaxis.set_tick_params(length=0)\n",
    "ax.xaxis.set_tick_params(length=0)\n",
    "ax.grid(b=True, which='major', c='w', lw=2, ls='-')\n",
    "\n",
    "legend = ax.legend()\n",
    "legend.get_frame().set_alpha(0.5)\n",
    "\n",
    "for spine in ('top', 'right', 'bottom', 'left'):\n",
    "    ax.spines[spine].set_visible(False)\n",
    "    \n",
    "plt.show()"
   ]
  },
  {
   "cell_type": "code",
   "execution_count": 68,
   "id": "28a53bb0",
   "metadata": {},
   "outputs": [
    {
     "data": {
      "text/plain": [
       "['builtins', 'builtins', 'numpy', 'matplotlib.pyplot', 'types']"
      ]
     },
     "execution_count": 68,
     "metadata": {},
     "output_type": "execute_result"
    }
   ],
   "source": [
    "import types\n",
    "def imports():\n",
    "    for name, val in globals().items():\n",
    "        if isinstance(val, types.ModuleType):\n",
    "            yield val.__name__\n",
    "list(imports())            "
   ]
  },
  {
   "cell_type": "code",
   "execution_count": null,
   "id": "d7823888",
   "metadata": {},
   "outputs": [],
   "source": []
  }
 ],
 "metadata": {
  "kernelspec": {
   "display_name": "Python 3",
   "language": "python",
   "name": "python3"
  },
  "language_info": {
   "codemirror_mode": {
    "name": "ipython",
    "version": 3
   },
   "file_extension": ".py",
   "mimetype": "text/x-python",
   "name": "python",
   "nbconvert_exporter": "python",
   "pygments_lexer": "ipython3",
   "version": "3.8.8"
  }
 },
 "nbformat": 4,
 "nbformat_minor": 5
}
