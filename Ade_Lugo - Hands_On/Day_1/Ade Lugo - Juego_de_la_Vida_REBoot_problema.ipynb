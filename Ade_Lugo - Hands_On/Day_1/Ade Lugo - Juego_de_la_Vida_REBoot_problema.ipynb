{
 "cells": [
  {
   "cell_type": "code",
   "execution_count": 226,
   "id": "76b85fdb",
   "metadata": {},
   "outputs": [],
   "source": [
    "import numpy as np\n",
    "import matplotlib.pyplot as plt\n",
    "import matplotlib.animation as animation\n",
    "from IPython.display import HTML, Image"
   ]
  },
  {
   "cell_type": "code",
   "execution_count": 228,
   "id": "ef693c9b",
   "metadata": {},
   "outputs": [],
   "source": [
    "# Crear array 2D con casillas aleatorias entre 0 y 1\n",
    "\n",
    "x=20\n",
    "y=20\n",
    "\n",
    "campo = np.random.randint(0,2, size=(x,y))"
   ]
  },
  {
   "cell_type": "code",
   "execution_count": 216,
   "id": "b572b4c3",
   "metadata": {},
   "outputs": [
    {
     "name": "stdout",
     "output_type": "stream",
     "text": [
      "[[0 1 1 1 1 0 0 1 1 1 1 0 0 1 1 1 0 0 1 0]\n",
      " [1 0 0 0 1 0 1 0 0 0 1 1 0 0 1 1 0 1 0 1]\n",
      " [0 0 1 0 0 1 0 0 0 0 1 1 1 1 0 0 1 1 1 1]\n",
      " [0 0 1 0 0 1 1 1 0 1 1 1 0 1 1 0 1 0 0 1]\n",
      " [1 1 0 1 1 1 1 0 1 1 0 1 0 1 1 0 0 1 0 1]\n",
      " [0 1 0 1 0 0 1 1 0 1 1 1 1 0 0 1 0 1 0 1]\n",
      " [0 1 0 1 1 1 1 0 0 1 1 0 1 1 0 1 0 0 1 0]\n",
      " [1 0 0 0 0 1 0 1 0 1 0 0 1 0 1 0 0 1 1 1]\n",
      " [0 1 1 0 1 1 0 0 1 1 1 1 0 1 0 1 1 0 0 0]\n",
      " [0 1 1 1 1 0 1 0 0 0 1 0 0 1 1 0 1 1 1 1]\n",
      " [0 1 1 0 0 1 1 1 0 0 1 0 0 0 0 0 0 1 1 1]\n",
      " [0 0 1 1 1 1 0 1 1 1 0 0 1 1 0 0 1 0 0 1]\n",
      " [0 0 1 1 1 1 0 0 1 0 0 0 1 1 1 1 1 1 1 0]\n",
      " [0 0 0 0 1 0 0 0 0 0 0 1 0 0 1 0 1 1 1 0]\n",
      " [0 1 1 1 1 0 1 1 0 0 1 1 0 0 0 1 0 0 1 0]\n",
      " [0 1 0 1 1 1 0 0 1 0 0 1 1 0 0 1 1 0 0 0]\n",
      " [0 1 0 1 1 0 0 0 0 1 1 1 0 0 1 1 0 1 1 1]\n",
      " [1 1 0 0 0 1 1 1 0 0 0 0 1 1 1 1 0 1 1 1]\n",
      " [1 1 1 1 1 1 0 0 0 0 0 0 0 1 1 0 0 0 0 0]\n",
      " [0 0 0 1 0 0 0 1 1 0 0 1 1 0 0 0 1 1 0 1]]\n"
     ]
    }
   ],
   "source": [
    "# Array del juego inicial\n",
    "print(campo)"
   ]
  },
  {
   "cell_type": "code",
   "execution_count": 229,
   "id": "6049c497",
   "metadata": {},
   "outputs": [],
   "source": [
    "# Definición del juego\n",
    "\n",
    "def game(campo):\n",
    "    campo1=np.zeros((x,y)) # array a llenar\n",
    "    for i in range(x):\n",
    "        for j in range(x):\n",
    "            # Vecinos lineales\n",
    "            vecinos1 = campo[np.mod(i+1,x),j]+campo[np.mod(i-1,x),j]+campo[i,np.mod(j+1,x)]+campo[i,np.mod(j-1,x)]\n",
    "            # Vecinos diagonales\n",
    "            vecinos2 = campo[np.mod(i-1,x),np.mod(j-1,x)]+campo[np.mod(i-1,x),np.mod(j+1,x)]+campo[np.mod(i+1,x),np.mod(j-1,x)]+campo[np.mod(i+1,x),np.mod(j+1,x)]\n",
    "            # número total de vecinos\n",
    "            vecinos = vecinos1 + vecinos2\n",
    "            if campo[i,j]==1:\n",
    "                if vecinos ==2 or vecinos ==3:\n",
    "                    campo1[i,j]=1\n",
    "                else:\n",
    "                    campo1[i,j]=0\n",
    "            elif vecinos == 3:\n",
    "                campo1[i,j]=1      \n",
    "            else:\n",
    "                campo1[i,j]=0  \n",
    "            campo[i,j] = campo1[i,j] # escritura en el array vacío\n",
    "    return campo"
   ]
  },
  {
   "cell_type": "code",
   "execution_count": 233,
   "id": "530e9661",
   "metadata": {},
   "outputs": [
    {
     "data": {
      "text/plain": [
       "array([[0, 1, 0, 1, 0, 0, 0, 0, 1, 0, 0, 0, 0, 1, 0, 0, 0, 1, 0, 1],\n",
       "       [0, 0, 0, 1, 1, 1, 1, 1, 1, 0, 1, 1, 0, 1, 0, 0, 0, 1, 0, 1],\n",
       "       [1, 0, 0, 0, 0, 0, 0, 0, 0, 0, 1, 0, 1, 0, 1, 1, 0, 1, 0, 1],\n",
       "       [0, 0, 1, 1, 1, 1, 1, 1, 1, 0, 0, 0, 0, 0, 0, 0, 0, 0, 0, 1],\n",
       "       [1, 1, 1, 0, 1, 0, 1, 0, 1, 1, 1, 1, 1, 1, 1, 0, 0, 0, 0, 1],\n",
       "       [0, 0, 0, 1, 0, 0, 0, 0, 0, 0, 0, 0, 0, 0, 0, 0, 0, 0, 1, 0],\n",
       "       [0, 0, 0, 1, 0, 1, 1, 1, 1, 1, 1, 1, 0, 1, 0, 1, 0, 1, 0, 1],\n",
       "       [0, 0, 0, 1, 0, 0, 0, 0, 0, 0, 0, 0, 1, 1, 0, 1, 0, 0, 0, 1],\n",
       "       [0, 1, 0, 1, 0, 1, 1, 0, 0, 0, 1, 0, 0, 0, 1, 1, 1, 0, 0, 1],\n",
       "       [1, 0, 1, 0, 1, 1, 1, 1, 0, 1, 0, 1, 1, 0, 0, 0, 0, 1, 1, 1],\n",
       "       [1, 0, 1, 0, 1, 0, 0, 1, 0, 0, 0, 1, 0, 1, 1, 1, 1, 0, 0, 0],\n",
       "       [0, 0, 1, 0, 1, 0, 1, 0, 0, 0, 0, 0, 1, 1, 0, 1, 1, 1, 1, 1],\n",
       "       [0, 0, 1, 0, 1, 0, 1, 1, 1, 1, 1, 1, 1, 1, 0, 0, 0, 0, 0, 0],\n",
       "       [0, 1, 1, 0, 1, 0, 0, 0, 0, 0, 1, 0, 1, 1, 1, 1, 1, 1, 0, 0],\n",
       "       [1, 0, 0, 0, 1, 0, 1, 1, 1, 1, 0, 0, 0, 1, 0, 0, 0, 0, 1, 0],\n",
       "       [1, 0, 1, 0, 0, 0, 0, 0, 0, 1, 0, 0, 0, 0, 0, 0, 0, 0, 1, 0],\n",
       "       [1, 0, 0, 0, 1, 0, 1, 1, 1, 0, 0, 0, 0, 0, 0, 0, 0, 1, 0, 0],\n",
       "       [0, 1, 1, 1, 1, 0, 1, 0, 0, 1, 0, 0, 0, 0, 0, 0, 1, 1, 0, 1],\n",
       "       [0, 1, 0, 1, 1, 0, 1, 0, 1, 1, 1, 0, 0, 1, 1, 0, 0, 0, 0, 1],\n",
       "       [0, 1, 0, 1, 0, 1, 1, 0, 0, 0, 0, 0, 1, 0, 0, 1, 1, 1, 0, 1]])"
      ]
     },
     "execution_count": 233,
     "metadata": {},
     "output_type": "execute_result"
    }
   ],
   "source": [
    "# Comprobar cada paso del juego\n",
    "game(campo)"
   ]
  },
  {
   "cell_type": "code",
   "execution_count": 234,
   "id": "eaf8fe85",
   "metadata": {},
   "outputs": [
    {
     "data": {
      "text/plain": [
       "<matplotlib.image.AxesImage at 0xbb92f28>"
      ]
     },
     "execution_count": 234,
     "metadata": {},
     "output_type": "execute_result"
    },
    {
     "data": {
      "image/png": "[encoded data removed]",
      "text/plain": [
       "<Figure size 432x288 with 1 Axes>"
      ]
     },
     "metadata": {
      "needs_background": "light"
     },
     "output_type": "display_data"
    }
   ],
   "source": [
    "# Graficar cada paso del juego\n",
    "plt.figure()\n",
    "plt.imshow(campo)"
   ]
  },
  {
   "cell_type": "code",
   "execution_count": 237,
   "id": "18bcca70",
   "metadata": {},
   "outputs": [
    {
     "data": {
      "text/html": [
       "<img src=\"Juego_de_la_Vida.gif\"/>"
      ],
      "text/plain": [
       "<IPython.core.display.Image object>"
      ]
     },
     "execution_count": 237,
     "metadata": {},
     "output_type": "execute_result"
    },
    {
     "data": {
      "image/png": "[encoded data removed]",
      "text/plain": [
       "<Figure size 432x288 with 1 Axes>"
      ]
     },
     "metadata": {
      "needs_background": "light"
     },
     "output_type": "display_data"
    }
   ],
   "source": [
    "# Crear animación\n",
    "\n",
    "def Animar(i):\n",
    "    game(campo)\n",
    "    ax1.clear()\n",
    "    ax1.imshow(campo)\n",
    "    plt.suptitle('Generación N.{}'.format(i))\n",
    "    \n",
    "fig = plt.figure()\n",
    "ax1 = fig.add_subplot()\n",
    "animate = animation.FuncAnimation(fig, Animar, interval = 200, frames = 300)\n",
    "\n",
    "animate.save('Juego_de_la_Vida.gif', writer='pillow', fps=60)\n",
    "Image(url='Juego_de_la_Vida.gif')\n",
    "    "
   ]
  },
  {
   "cell_type": "code",
   "execution_count": null,
   "id": "8e54bbfe",
   "metadata": {},
   "outputs": [],
   "source": []
  },
  {
   "cell_type": "code",
   "execution_count": null,
   "id": "a3d7add1",
   "metadata": {},
   "outputs": [],
   "source": []
  }
 ],
 "metadata": {
  "kernelspec": {
   "display_name": "Python 3",
   "language": "python",
   "name": "python3"
  },
  "language_info": {
   "codemirror_mode": {
    "name": "ipython",
    "version": 3
   },
   "file_extension": ".py",
   "mimetype": "text/x-python",
   "name": "python",
   "nbconvert_exporter": "python",
   "pygments_lexer": "ipython3",
   "version": "3.8.8"
  }
 },
 "nbformat": 4,
 "nbformat_minor": 5
}
