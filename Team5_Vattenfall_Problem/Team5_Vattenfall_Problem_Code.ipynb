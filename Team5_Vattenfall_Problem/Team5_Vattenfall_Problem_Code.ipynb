{
  "nbformat": 4,
  "nbformat_minor": 0,
  "metadata": {
    "colab": {
      "name": "Team5_Vattenfall_Problem_Code.ipynb",
      "provenance": [],
      "collapsed_sections": [
        "9up656raFbwf",
        "mVIOQ0fpFfPH",
        "xJMwoxx9FtR2",
        "TbsYe903GGEf",
        "FsgyoXaaGTB2",
        "94vVgt1FGd5O",
        "gOxlyhnrGma9",
        "jLXwXJZyGqqn",
        "r_FsMR2XG005",
        "gqiNrLI8HOre",
        "t87NXZxbCjS2",
        "joaZRR9oCz8D",
        "EH_pikCPDL27",
        "xdOmAU69DxWN",
        "fN1wn2KgEIG1"
      ]
    },
    "kernelspec": {
      "display_name": "Python 3",
      "name": "python3"
    },
    "language_info": {
      "name": "python"
    }
  },
  "cells": [
    {
      "cell_type": "markdown",
      "metadata": {
        "id": "-HPBegM7kc_7"
      },
      "source": [
        "# Optimización de Granjas Eólicas \"Onshore\""
      ]
    },
    {
      "cell_type": "markdown",
      "metadata": {
        "id": "7nY9zL7vKaut"
      },
      "source": [
        "## Integrantes"
      ]
    },
    {
      "cell_type": "markdown",
      "metadata": {
        "id": "y4OnRb_fKeZu"
      },
      "source": [
        "* Chacón, W.\n",
        "* Lugo, A.\n",
        "* Nanin, D.\n",
        "* Santos, J.\n",
        "* Zambrano, J."
      ]
    },
    {
      "cell_type": "markdown",
      "metadata": {
        "id": "08aXc7_bFQJA"
      },
      "source": [
        "## Preparativos del código y definición de funciones"
      ]
    },
    {
      "cell_type": "markdown",
      "metadata": {
        "id": "9up656raFbwf"
      },
      "source": [
        "### Importación de librerías"
      ]
    },
    {
      "cell_type": "code",
      "metadata": {
        "id": "G5h9mSqPmhSl"
      },
      "source": [
        "import numpy as np # Librería NumPy\n",
        "import matplotlib.pyplot as plt # Librería para hacer los gráficos\n",
        "from operator import itemgetter # Función que se utiliza en una parte específica del código para iterar índices de listas"
      ],
      "execution_count": null,
      "outputs": []
    },
    {
      "cell_type": "markdown",
      "metadata": {
        "id": "mVIOQ0fpFfPH"
      },
      "source": [
        "### Función que genera una matriz $n\\times n$ que contiene una máscara circular compuesta de unos (1) en el borde y dos (2) en la región interna"
      ]
    },
    {
      "cell_type": "code",
      "metadata": {
        "id": "pdVMPvqApEGU"
      },
      "source": [
        "def turb_dist(n):\n",
        "  '''\n",
        "     \n",
        "  Parameters\n",
        "  ----------\n",
        "    \n",
        "  n : int\n",
        "    Tamaño nxn de la matriz deseada\n",
        "\n",
        "  Returns\n",
        "  -------\n",
        "\n",
        "  array : numpy.ndarray\n",
        "    Matriz nxn compuesta por ceros (0), una máscara circular de unos (1) y\n",
        "    dos (2), donde los unos representan el borde (posiciones fijas) y los dos\n",
        "    la región interna del círculo (posiciones que luego serán aleatorias). \n",
        "\n",
        "  '''\n",
        "  # Posición del centro de la máscara circular\n",
        "  # Siempre queremos que se encuentre en la celda central de nuestra matriz\n",
        "  c = n//2\n",
        "\n",
        "  # A continuación, queremos dos máscaras circulares. La primera debe cumplir\n",
        "  # la función de circunferencia (borde del círculo) y la segunda la región\n",
        "  # interior del círculo\n",
        "\n",
        "  # El radio más exterior debe ocupar lo más posible de la matriz, así que\n",
        "  # mide, horizontalmente, la distancia desde un borde de la matriz hasta el\n",
        "  # centro de la máscara circular\n",
        "  # El primer radio recibe el nombre de radio exterior\n",
        "  rext = c\n",
        "\n",
        "  # Para hacer la región interna generaremos una segunda máscara circular,\n",
        "  # pero esta vez de radio -1 respecto del radio exterior\n",
        "  # Este radio recibe el nombre de radio interior\n",
        "  rint = rext - 1\n",
        "\n",
        "  # Generamos dos vectores, un vector columna y un vector fila, de componentes\n",
        "  # 'x' e 'y', respectivamente, usando la función np.ogrid y especificamos que\n",
        "  # el intervalo de valores sea [-c:n-c]. Esto para que abarque toda la\n",
        "  # dimensión de la matriz cuadrada con centro en c\n",
        "  y,x = np.ogrid[-c:n-c, -c:n-c]\n",
        "\n",
        "  # Generamos ambas máscaras circulares utilizando la ecuación de una\n",
        "  # circunferencia. Para conseguir la forma de la matriz deseada\n",
        "  # multiplicamos el radio por una constante. El valor de dicha constante\n",
        "  # se determinó a conveniencia del caso de estudio\n",
        "  # La primera máscara circular corresponde a la del borde del círculo\n",
        "  edge = x**2 + y**2 <= (rext*1.06)**2\n",
        "\n",
        "  # Ahora generamos una segunda máscara que corresponde a la región interna\n",
        "  region = x**2 + y**2 <= (rint*1.12)**2\n",
        "\n",
        "  # Generamos una matriz de ceros nxn que será, por así decirlo, el lienzo en\n",
        "  # blanco sobre el que aplicaremos las máscaras que hemos creado\n",
        "  array = np.zeros((n, n))\n",
        "\n",
        "  # Aplicamos primero la máscara circular de radio mayor sobre la matriz que\n",
        "  # acabamos de generar\n",
        "  # Usaremos unos (1) para este propósito\n",
        "  array[edge] = 1\n",
        "\n",
        "  # Ahora aplicamos la segunda máscara, que sólo déjara el borde de la\n",
        "  # máscara circular anterior y, para diferenciarla de aquella, usaremos dos (2)\n",
        "  # en ves de unos\n",
        "  array[region] = 2\n",
        "\n",
        "  # Retornamos la nueva matriz compuesta de ceros, unos y dos\n",
        "  return array"
      ],
      "execution_count": null,
      "outputs": []
    },
    {
      "cell_type": "markdown",
      "metadata": {
        "id": "nApNXpKcLtry"
      },
      "source": [
        "Ejemplo:"
      ]
    },
    {
      "cell_type": "code",
      "metadata": {
        "colab": {
          "base_uri": "https://localhost:8080/"
        },
        "id": "L_MNRRfdKFlY",
        "outputId": "95606c50-1561-4ff5-e2aa-7123eeb132af"
      },
      "source": [
        "# Matriz 9x9 de ejemplo\n",
        "sample_array = turb_dist(9)\n",
        "print(sample_array)"
      ],
      "execution_count": null,
      "outputs": [
        {
          "output_type": "stream",
          "name": "stdout",
          "text": [
            "[[0. 0. 0. 1. 1. 1. 0. 0. 0.]\n",
            " [0. 0. 1. 2. 2. 2. 1. 0. 0.]\n",
            " [0. 1. 2. 2. 2. 2. 2. 1. 0.]\n",
            " [1. 2. 2. 2. 2. 2. 2. 2. 1.]\n",
            " [1. 2. 2. 2. 2. 2. 2. 2. 1.]\n",
            " [1. 2. 2. 2. 2. 2. 2. 2. 1.]\n",
            " [0. 1. 2. 2. 2. 2. 2. 1. 0.]\n",
            " [0. 0. 1. 2. 2. 2. 1. 0. 0.]\n",
            " [0. 0. 0. 1. 1. 1. 0. 0. 0.]]\n"
          ]
        }
      ]
    },
    {
      "cell_type": "markdown",
      "metadata": {
        "id": "xJMwoxx9FtR2"
      },
      "source": [
        "### Función que asigna aleatoriamente $n$ cantidad de unos (1) en la región circular interna de la matriz"
      ]
    },
    {
      "cell_type": "code",
      "metadata": {
        "id": "2bV0zXnYsYNR"
      },
      "source": [
        "def random_pos(array, n):\n",
        "  '''\n",
        "     \n",
        "  Parameters\n",
        "  ----------\n",
        "    \n",
        "  array : numpy.ndarray\n",
        "    Matriz de retorno de la función turb_dist\n",
        "  n : int\n",
        "    Número de posiciones aleatorias que se desean asignar en la región interna\n",
        "    de la región circular (la compuesta por los números dos) \n",
        "\n",
        "  Returns\n",
        "  -------\n",
        "\n",
        "  array : numpy.ndarray\n",
        "    Misma matriz introducida como input que contiene n cantidad de tres (3)\n",
        "    distribuidos aleatoriamente en la región interior del círculo\n",
        "\n",
        "  '''\n",
        "  # Creamos una copia de la matriz input\n",
        "  random_pos_array = np.copy(array)\n",
        "\n",
        "  # Esta variable determina cuando se sale del bucle\n",
        "  sum = 0\n",
        "\n",
        "  # Guardamos el número de filas y columnas de la matriz input en variables\n",
        "  num_rows, num_cols = array.shape\n",
        "\n",
        "  # Esta parte del código se encarga de viajar por cada uno de los elementos que\n",
        "  # componen la matriz array. Cuando el código se encuentra con un dos (2),\n",
        "  # existe un 30% de probabilidad que dicho dos se convierta en un uno (1). Si\n",
        "  # falla, el elemento sigue siendo un dos. En caso de haberse convertido en un\n",
        "  # uno se suma una unidad a la variable sum y se avanza al siguiente dos.\n",
        "  # Cuando sum alcanza el valor de n, es decir, cuando n posiciones han sido\n",
        "  # asignadas aleatoriamente, se rompe la iteración\n",
        "\n",
        "  # La probabilidad de salir un uno se escogió a conveniencia del tamaño de las\n",
        "  # matrices con las que se trabajará. Así se evita que sean asignados todo el\n",
        "  # número de unos escogido en la parte superior de la matriz\n",
        "\n",
        "  # El propósito de este while es el de asegurarse que el bucle no se rompa\n",
        "  # hasta que se hayan asignado las n posiciones indicadas\n",
        "  while sum < n:\n",
        "    # Aquí se inicia el bucle que pasa por cada elemento de la matriz\n",
        "    for i in range(num_rows):\n",
        "      for j in range(num_cols):\n",
        "        # Se verifica si el elemento actual es un dos. En caso de no serlo, se\n",
        "        # avanza al siguiente\n",
        "        if random_pos_array[i,j] == 2:\n",
        "          # Se verifica si la variable sum alcanzó el valor de n. En caso\n",
        "          # afirmativo, se rompe el bucle\n",
        "          if sum < n:\n",
        "            # Se asigna un número aleatorio entre 1 y 2 (más probabilidad de\n",
        "            # sacar un 2)\n",
        "            random_pos_array[i,j] = np.random.choice(np.array([2,1]),1,p=[0.7,0.3])[0]\n",
        "            # En caso de salir 1, se suma una unidad a la variable sum. En\n",
        "            # otro caso, se avanza al siguiente elemento\n",
        "            if random_pos_array[i,j] == 1:\n",
        "              sum += 1\n",
        "            else:\n",
        "              pass\n",
        "          else:\n",
        "            break\n",
        "        else:\n",
        "          pass\n",
        "\n",
        "  # Finalmente, todos los dos que pudieron haber quedado de la iteración\n",
        "  # anterior se sustituyen por ceros\n",
        "  random_pos_array[random_pos_array == 2] = 0\n",
        "  return random_pos_array"
      ],
      "execution_count": null,
      "outputs": []
    },
    {
      "cell_type": "markdown",
      "metadata": {
        "id": "HpRedRHlLya4"
      },
      "source": [
        "Ejemplo:"
      ]
    },
    {
      "cell_type": "code",
      "metadata": {
        "colab": {
          "base_uri": "https://localhost:8080/"
        },
        "id": "IUgHcdsrLzeI",
        "outputId": "cb71ec1d-757a-45ec-b50f-e893ed20da29"
      },
      "source": [
        "# Matriz de ejemplo a la que se le han asignado 5 posiciones aleatorias en la\n",
        "# región circular interna\n",
        "# El output de esta función es el que usaremos como matriz de estudio\n",
        "# Nótese que los dos (2) restantes son sustituidos por ceros (0)\n",
        "sample_random_pos = random_pos(sample_array,5)\n",
        "print(sample_random_pos)"
      ],
      "execution_count": null,
      "outputs": [
        {
          "output_type": "stream",
          "name": "stdout",
          "text": [
            "[[0. 0. 0. 1. 1. 1. 0. 0. 0.]\n",
            " [0. 0. 1. 0. 0. 0. 1. 0. 0.]\n",
            " [0. 1. 1. 0. 0. 0. 0. 1. 0.]\n",
            " [1. 0. 1. 0. 0. 0. 0. 1. 1.]\n",
            " [1. 1. 0. 0. 0. 0. 0. 1. 1.]\n",
            " [1. 0. 0. 0. 0. 0. 0. 0. 1.]\n",
            " [0. 1. 0. 0. 0. 0. 0. 1. 0.]\n",
            " [0. 0. 1. 0. 0. 0. 1. 0. 0.]\n",
            " [0. 0. 0. 1. 1. 1. 0. 0. 0.]]\n"
          ]
        }
      ]
    },
    {
      "cell_type": "markdown",
      "metadata": {
        "id": "TbsYe903GGEf"
      },
      "source": [
        "### Función que genera una matriz cuyos unos (1) son sustituidos por tuplas $(y,x)$ que indican su posición dentro de la matriz"
      ]
    },
    {
      "cell_type": "code",
      "metadata": {
        "id": "YLq9KUTDnlxE"
      },
      "source": [
        "def coord_array(array):\n",
        "  '''\n",
        "\n",
        "  Parameters\n",
        "  ----------\n",
        "    \n",
        "  array : numpy.ndarray\n",
        "    Matriz compuesta de ceros, unos y dos\n",
        "\n",
        "  Returns\n",
        "  -------\n",
        "\n",
        "  tensor : numpy.ndarray\n",
        "    Matriz en donde fueron sustituidos los unos (1) por listas de dos\n",
        "    elementos que indican la posición fila/columna que ocupa cada turbina\n",
        "    (elemento diferente de cero) en dicha matriz\n",
        "\n",
        "  '''\n",
        "  # Guardamos el número de filas y columnas de la matriz input en variables\n",
        "  num_rows, num_cols = array.shape\n",
        "\n",
        "  # Generamos una matriz llena de ceros del mismo tamaño de la matriz input\n",
        "  # que podamos llenar de objetos como la tupla, en este caso\n",
        "  tensor = np.zeros((num_rows,num_cols),dtype='object')\n",
        "  \n",
        "  # Se itera por cada elemento de la matriz\n",
        "  for i in range(num_rows):\n",
        "      for j in range(num_cols):\n",
        "        # En caso de encontrar 1, se guarda su ubicación en la matriz en una\n",
        "        # tupla de dos elementos en la matriz tensor en la misma posición \n",
        "        if array[i,j] == 1:\n",
        "          tensor[i,j] = (i,j)\n",
        "  return tensor"
      ],
      "execution_count": null,
      "outputs": []
    },
    {
      "cell_type": "markdown",
      "metadata": {
        "id": "-rBiImWRMRdU"
      },
      "source": [
        "Ejemplo:"
      ]
    },
    {
      "cell_type": "code",
      "metadata": {
        "colab": {
          "base_uri": "https://localhost:8080/"
        },
        "id": "BdU4EmrBMSbn",
        "outputId": "9f8aab3b-ddb5-4f48-aba8-c1e9c04e694c"
      },
      "source": [
        "# Matriz de ejemplo con posiciones aleatorias a la que se le han sustituido los\n",
        "# uno (1) por tuplas (y,x) que inidican su posición dentro de la matriz\n",
        "sample_coord_array = coord_array(sample_random_pos)\n",
        "print(sample_coord_array)"
      ],
      "execution_count": null,
      "outputs": [
        {
          "output_type": "stream",
          "name": "stdout",
          "text": [
            "[[0 0 0 (0, 3) (0, 4) (0, 5) 0 0 0]\n",
            " [0 0 (1, 2) 0 0 0 (1, 6) 0 0]\n",
            " [0 (2, 1) (2, 2) 0 0 0 0 (2, 7) 0]\n",
            " [(3, 0) 0 (3, 2) 0 0 0 0 (3, 7) (3, 8)]\n",
            " [(4, 0) (4, 1) 0 0 0 0 0 (4, 7) (4, 8)]\n",
            " [(5, 0) 0 0 0 0 0 0 0 (5, 8)]\n",
            " [0 (6, 1) 0 0 0 0 0 (6, 7) 0]\n",
            " [0 0 (7, 2) 0 0 0 (7, 6) 0 0]\n",
            " [0 0 0 (8, 3) (8, 4) (8, 5) 0 0 0]]\n"
          ]
        }
      ]
    },
    {
      "cell_type": "markdown",
      "metadata": {
        "id": "FsgyoXaaGTB2"
      },
      "source": [
        "### Función para calcular la rapidez del viento que entra en una turbina considerando el efecto estela causado por las demás"
      ]
    },
    {
      "cell_type": "code",
      "metadata": {
        "id": "0idd4l-ovDnF"
      },
      "source": [
        "def Viento_turb_Gauss(o, p, matrix):  # Bastankhah's Gaussian Model    \n",
        "    vel_viento = 10.5 #[m/s]\n",
        "    r0 = 91.25 #[m]   #Radio de la estela inmediatamente dentrás del rotor\n",
        "    k = 0.0324555\n",
        "    #v[o][p] Turbina de referencia sobre la que se trabaja\n",
        "    viento_ = 0\n",
        "    wind_def = 0\n",
        "    dim = np.size(matrix,0)\n",
        "    g = matrix[0:dim, p:dim] #Submatriz con turbinas a considerar para el efecto estela \n",
        "    #Cálculo de défecit de viento en turbina de referencia con el resto\n",
        "    for i in range(dim):\n",
        "        for j in range(dim-p):\n",
        "            if isinstance(g[i][j], tuple) and g[i][j] != g[o][0]:\n",
        "                x = (g[i][j][1] - g[o][0][1]) * 650.   #Distancia x entre turbinas\n",
        "                y = (g[i][j][0] - g[o][0][0]) * 650.   #Distancia y entre turbinas\n",
        "                #Radio de la estela a distancia x\n",
        "                r_w = (0.054 * x) + r0\n",
        "                if x > 0. and np.absolute(y) <= r_w:   #Condición para la selección de turbinas que afectan a la de referencia\n",
        "                    # Ecuaciones del modelo gaussiano de Bastankhah\n",
        "                    sigma = k*x + (130)/np.sqrt(8.)\n",
        "                    exponent = -0.5 * (y/sigma)**2\n",
        "                    radical = 1. - 0.884/(8.*(sigma**2) / (130)**2)\n",
        "                    viento_ = ( (1. - np.sqrt(radical)) * np.exp(exponent) )**2\n",
        "                    wind_def = wind_def + viento_\n",
        "            else:\n",
        "                pass\n",
        "        wind_def_total = vel_viento * (1 - np.sqrt(wind_def))\n",
        "    return wind_def, wind_def_total"
      ],
      "execution_count": null,
      "outputs": []
    },
    {
      "cell_type": "markdown",
      "metadata": {
        "id": "94vVgt1FGd5O"
      },
      "source": [
        "### Función que calcula la potencial total de salida de una distribución de turbinas"
      ]
    },
    {
      "cell_type": "code",
      "metadata": {
        "id": "vi_7CJTDvGSb"
      },
      "source": [
        "def Potencia_total(matrix):\n",
        "  \n",
        "    #Caracterísitcas de funcionamiento de la turbina a emplear\n",
        "\n",
        "    Vcut_in = 4. #[m/s] \n",
        "    Vcut_out = 25. #[m/s]\n",
        "    Vrat = 9.8 #[m/s]\n",
        "    P_rat = 3.35 #[MW]\n",
        "    acumular = 0\n",
        "    num_rows, num_cols = matrix.shape\n",
        "    \n",
        "    #Determinación de potencia individual por turbina\n",
        "    for i in range(num_rows):\n",
        "        for j in range(num_cols):\n",
        "            if isinstance(matrix[i][j], tuple):\n",
        "                array = Viento_turb_Gauss(i, j, matrix)\n",
        "                #Condiciones de potencia según viento de entrada en turbina\n",
        "                if array[1] < Vcut_in or array[1] >= Vcut_out:\n",
        "                    pot = 0\n",
        "                elif array[1] < Vrat and array[1] >= Vcut_in:\n",
        "                    pot = P_rat * (((array[1]-Vcut_in)/(Vrat - Vcut_in))**3)\n",
        "                elif array[1] < Vcut_out and array[1] >= Vrat:\n",
        "                    pot = P_rat\n",
        "                    \n",
        "                acumular = acumular + pot \n",
        "            else:\n",
        "                pass\n",
        "    #Potencia total de la granja eólica            \n",
        "    Potencia = acumular        \n",
        "    return Potencia  "
      ],
      "execution_count": null,
      "outputs": []
    },
    {
      "cell_type": "markdown",
      "metadata": {
        "id": "6xArpfMXMvH4"
      },
      "source": [
        "Ejemplo:"
      ]
    },
    {
      "cell_type": "code",
      "metadata": {
        "colab": {
          "base_uri": "https://localhost:8080/"
        },
        "id": "zz7L-rx9Mv-f",
        "outputId": "d5aa43c7-68a5-4d80-9814-da28f9de36bf"
      },
      "source": [
        "# Potencia total de salida de la matriz de ejemplo\n",
        "sample_total_power = Potencia_total(sample_coord_array)\n",
        "# El output da el resultado en mega vatios (MW)\n",
        "print(sample_total_power)"
      ],
      "execution_count": null,
      "outputs": [
        {
          "output_type": "stream",
          "name": "stdout",
          "text": [
            "64.30799732141458\n"
          ]
        }
      ]
    },
    {
      "cell_type": "markdown",
      "metadata": {
        "id": "gOxlyhnrGma9"
      },
      "source": [
        "### Función que calcula la eficiencia de una distribución"
      ]
    },
    {
      "cell_type": "code",
      "metadata": {
        "id": "rxNG_34wvI1n"
      },
      "source": [
        "# Para la eficiencia\n",
        "\n",
        "def Efficency(n_turb, matrix):\n",
        "    #Power without the wake effect\n",
        "    vel_wind = 10.\n",
        "    P_sin = n_turb * 3.35\n",
        "    P_con = Potencia_total(matrix)\n",
        "    Eff = P_con/P_sin\n",
        "    return Eff"
      ],
      "execution_count": null,
      "outputs": []
    },
    {
      "cell_type": "markdown",
      "metadata": {
        "id": "LieraYfwNewS"
      },
      "source": [
        "Ejemplo:"
      ]
    },
    {
      "cell_type": "code",
      "metadata": {
        "colab": {
          "base_uri": "https://localhost:8080/"
        },
        "id": "K7e06kZoNfs_",
        "outputId": "ceb7bf32-ccd5-4c1e-997f-afb9e533acc3"
      },
      "source": [
        "# Número de turbinas de la matriz de ejemplo\n",
        "nturb = np.count_nonzero(sample_random_pos == 1)\n",
        "# Eficiencia de la matriz de ejemplo\n",
        "sample_efficency = Efficency(nturb, sample_coord_array)\n",
        "print(sample_efficency)"
      ],
      "execution_count": null,
      "outputs": [
        {
          "output_type": "stream",
          "name": "stdout",
          "text": [
            "0.7678566844348009\n"
          ]
        }
      ]
    },
    {
      "cell_type": "markdown",
      "metadata": {
        "id": "jLXwXJZyGqqn"
      },
      "source": [
        "### Función que calcula un estimado del costo del cableado de la distribución considerando una central eléctrica hipotética"
      ]
    },
    {
      "cell_type": "code",
      "metadata": {
        "id": "fDq75ZLsP6My"
      },
      "source": [
        "def costos(matrix):\n",
        "    cableDPKm = 0.591280     #M$ / km\n",
        "    TurbCost = 2.0           #M$ / unidad\n",
        "    LongEntTurb = 1.517      #km\n",
        "    num_rows, num_cols = matrix.shape\n",
        "    centerPos = np.array([ np.round( num_rows/2 ), num_rows + 0.25 ])  #posición de la central\n",
        "    costoTotal = 1\n",
        "    for i in range(num_rows):\n",
        "        for j in range(num_cols):\n",
        "            costoTotal += matrix[i,j] * np.sum( np.abs( np.array([i, j]) - centerPos ) ) * cableDPKm\n",
        "    \n",
        "    costoTotal += np.sum(matrix) * LongEntTurb\n",
        "    \n",
        "    return costoTotal"
      ],
      "execution_count": null,
      "outputs": []
    },
    {
      "cell_type": "markdown",
      "metadata": {
        "id": "h0Kz21PKOXwf"
      },
      "source": [
        "Ejemplo:"
      ]
    },
    {
      "cell_type": "code",
      "metadata": {
        "colab": {
          "base_uri": "https://localhost:8080/"
        },
        "id": "DbUb5Tp5OYp4",
        "outputId": "d8e329a5-2750-4925-e61a-1c81c48125e3"
      },
      "source": [
        "# Costo estimado del cableado de la matriz de ejemplo\n",
        "sample_cost = costos(sample_random_pos)\n",
        "# El output da el resultado en millones de dólares (M$)\n",
        "print(sample_cost)"
      ],
      "execution_count": null,
      "outputs": [
        {
          "output_type": "stream",
          "name": "stdout",
          "text": [
            "147.86834000000002\n"
          ]
        }
      ]
    },
    {
      "cell_type": "markdown",
      "metadata": {
        "id": "r_FsMR2XG005"
      },
      "source": [
        "### Función que genera una lista que contiene $nsamples$ distribuciones con datos sobre ella. La lista está ordenada de acuerdo al valor de la función objetivo de cada una, del menor valor al mayor"
      ]
    },
    {
      "cell_type": "code",
      "metadata": {
        "id": "FcqEyyAhD6Qu"
      },
      "source": [
        "def samples(array_size,nalturb,nsamples):\n",
        "  '''\n",
        "\n",
        "  Parameters\n",
        "  ----------\n",
        "    \n",
        "  array_size : int\n",
        "    Tamaño de la matriz que se desea generar\n",
        "  nalturb : int\n",
        "    Número de turbinas que se desean posicionar aleatoriamente en la\n",
        "    región marcada como interna de la matriz\n",
        "  nsamples : int\n",
        "    Número de muestras\n",
        "\n",
        "  Returns\n",
        "  -------\n",
        "\n",
        "  final_log : list\n",
        "    Lista de nsamples elementos que contiene a su vez listas que\n",
        "    están compuestas por lo siguiente:\n",
        "    1. Matriz de tamaño array_sizexarray_size que posiciona las turbinas de la\n",
        "    distribución con unos (1) y el resto de espacios con ceros (0)\n",
        "    2. Potencia total generada por la distribución\n",
        "    3. Eficiencia de la distribución\n",
        "    4. Costo del cableado de la distribución\n",
        "    5. Función objetivo: potencia * eficiencia / costo\n",
        "    La lista final_log está ordenada según el valor de la función objetivo de\n",
        "    forma creciente\n",
        "  '''\n",
        "  # Creamos la lista vacía log\n",
        "  log = []\n",
        "\n",
        "  # Creamos la matriz base a la que luego cambiaremos las posiciones de la\n",
        "  # región circular interior\n",
        "  array = turb_dist(array_size)\n",
        "\n",
        "  # Número de turbinas\n",
        "  nturb = np.count_nonzero(array == 1) + nalturb\n",
        "\n",
        "  # Creamos nsamples distribuciones\n",
        "  for i in range(nsamples):\n",
        "\n",
        "    # Generamos la distribución, creando primero la matriz y luego\n",
        "    # asignando nalturb posiciones aleatorias en la región circular interna,\n",
        "    # dejando las posiciones de las turbinas en los bordes fijas \n",
        "    distribution = random_pos(array, nalturb)\n",
        "\n",
        "    # Generamos la matriz que contiene las coordenadas de cada turbina en vez\n",
        "    # de unos (1)\n",
        "    tensor_distribution = coord_array(distribution)\n",
        "\n",
        "    # Potencia total de salida\n",
        "    total_power = Potencia_total(tensor_distribution) \n",
        "\n",
        "    # Eficiencia\n",
        "    efficency = Efficency(nturb,tensor_distribution)\n",
        "\n",
        "    # Costo\n",
        "    cost = costos(distribution)\n",
        "\n",
        "    # Función objetivo\n",
        "    objective_function = efficency * total_power / cost\n",
        "\n",
        "    # Lista de los resultados obtenidos\n",
        "    result = [distribution, total_power, efficency, cost, objective_function]\n",
        "    \n",
        "    # Añadimos la distribución a log\n",
        "    log.append(result)\n",
        "\n",
        "  # Organizamos de acuerdo a su valor promedio, yendo desde el menor valor hasta\n",
        "  # el mayor\n",
        "  final_log = sorted(log, key = itemgetter(4))\n",
        "\n",
        "  return final_log"
      ],
      "execution_count": null,
      "outputs": []
    },
    {
      "cell_type": "markdown",
      "metadata": {
        "id": "gqiNrLI8HOre"
      },
      "source": [
        "### Función que muestra el análisis sobre una distribución de forma más legible"
      ]
    },
    {
      "cell_type": "code",
      "metadata": {
        "id": "WfpUTcIOtYOW"
      },
      "source": [
        "def analisis(result, index):\n",
        "  '''\n",
        "\n",
        "  Parameters\n",
        "  ----------\n",
        "    \n",
        "  result: list\n",
        "    Output de la función samples a la que se desea realizar el análisis\n",
        "  index : int\n",
        "    Índice del elemento de la lista de estudio\n",
        "\n",
        "  '''\n",
        "  print(\\\n",
        "  \"Número total de turbinas: {}\".format(np.sum(result[index][0])) + \"\\n\" +\\\n",
        "  \"Potencia total de salida: {:.2f} MW\".format(result[index][1]) + \"\\n\" +\\\n",
        "  \"Eficiencia de la distribución: {:.2f}\".format(result[index][2]) + \"\\n\" +\\\n",
        "  \"Costo estimado del cableado: {:.2f} millones de dólares\".format(result[index][3]) + \"\\n\" +\\\n",
        "  \"Función objetivo: {:.2f}\".format(result[index][4])\\\n",
        "  )"
      ],
      "execution_count": null,
      "outputs": []
    },
    {
      "cell_type": "markdown",
      "metadata": {
        "id": "a23Lah0LCgr_"
      },
      "source": [
        "## Casos de estudio"
      ]
    },
    {
      "cell_type": "code",
      "metadata": {
        "id": "HGcVEV-UZquD"
      },
      "source": [
        "# Número de muestras\n",
        "nsamples = 10000"
      ],
      "execution_count": null,
      "outputs": []
    },
    {
      "cell_type": "markdown",
      "metadata": {
        "id": "t87NXZxbCjS2"
      },
      "source": [
        "### Caso N°1: Matriz 5x5, 10 turbinas en total, 2 turbinas aleatorias"
      ]
    },
    {
      "cell_type": "markdown",
      "metadata": {
        "id": "SISw-YAsPe8K"
      },
      "source": [
        "Matriz 5x5"
      ]
    },
    {
      "cell_type": "code",
      "metadata": {
        "id": "0PUSIo1FRGer"
      },
      "source": [
        "r1 = samples(5,2,nsamples)"
      ],
      "execution_count": null,
      "outputs": []
    },
    {
      "cell_type": "code",
      "metadata": {
        "colab": {
          "base_uri": "https://localhost:8080/",
          "height": 282
        },
        "id": "LZy1KfyQ06DZ",
        "outputId": "34af89b8-6c2d-42ca-a352-e13604488348"
      },
      "source": [
        "plt.imshow(r1[nsamples-1][0])"
      ],
      "execution_count": null,
      "outputs": [
        {
          "output_type": "execute_result",
          "data": {
            "text/plain": [
              "<matplotlib.image.AxesImage at 0x7fc6db49d8d0>"
            ]
          },
          "metadata": {},
          "execution_count": 228
        },
        {
          "output_type": "display_data",
          "data": {
            "image/png": "[encoded data removed]",
            "text/plain": [
              "<Figure size 432x288 with 1 Axes>"
            ]
          },
          "metadata": {
            "needs_background": "light"
          }
        }
      ]
    },
    {
      "cell_type": "code",
      "metadata": {
        "colab": {
          "base_uri": "https://localhost:8080/"
        },
        "id": "pbB3xhWUWp7p",
        "outputId": "313a6f72-811f-4038-a5f0-fb35e60903e3"
      },
      "source": [
        "analisis(r1,nsamples-1)"
      ],
      "execution_count": null,
      "outputs": [
        {
          "output_type": "stream",
          "name": "stdout",
          "text": [
            "Número total de turbinas: 10.0\n",
            "Potencia total de salida: 25.55 MW\n",
            "Eficiencia de la distribución: 0.76\n",
            "Costo estimado del cableado: 40.12 millones de dólares\n",
            "Función objetivo: 0.49\n"
          ]
        }
      ]
    },
    {
      "cell_type": "markdown",
      "metadata": {
        "id": "joaZRR9oCz8D"
      },
      "source": [
        "### Caso N°2: Matriz 7x7 y matriz 9x9, 8 y 4 turbinas con posiciones aleatorias, respectivamente, 24 turbinas en total"
      ]
    },
    {
      "cell_type": "markdown",
      "metadata": {
        "id": "7v_QCJ1vPLYD"
      },
      "source": [
        "Matriz 7x7"
      ]
    },
    {
      "cell_type": "code",
      "metadata": {
        "id": "TvUqCGilZHpd"
      },
      "source": [
        "r2 = samples(7,8,nsamples)"
      ],
      "execution_count": null,
      "outputs": []
    },
    {
      "cell_type": "code",
      "metadata": {
        "colab": {
          "base_uri": "https://localhost:8080/",
          "height": 282
        },
        "id": "JK7lBqmwaiYg",
        "outputId": "61c2d879-3da8-427e-96a9-5f2ca723e98e"
      },
      "source": [
        "plt.imshow(r2[nsamples-1][0])"
      ],
      "execution_count": null,
      "outputs": [
        {
          "output_type": "execute_result",
          "data": {
            "text/plain": [
              "<matplotlib.image.AxesImage at 0x7fc6dda50b90>"
            ]
          },
          "metadata": {},
          "execution_count": 225
        },
        {
          "output_type": "display_data",
          "data": {
            "image/png": "[encoded data removed]",
            "text/plain": [
              "<Figure size 432x288 with 1 Axes>"
            ]
          },
          "metadata": {
            "needs_background": "light"
          }
        }
      ]
    },
    {
      "cell_type": "code",
      "metadata": {
        "colab": {
          "base_uri": "https://localhost:8080/"
        },
        "id": "UOm69UxYap_k",
        "outputId": "6c64b513-4124-46a3-ac0c-5c94e2743f97"
      },
      "source": [
        "analisis(r2,nsamples-1)"
      ],
      "execution_count": null,
      "outputs": [
        {
          "output_type": "stream",
          "name": "stdout",
          "text": [
            "Número total de turbinas: 24.0\n",
            "Potencia total de salida: 55.41 MW\n",
            "Eficiencia de la distribución: 0.69\n",
            "Costo estimado del cableado: 121.37 millones de dólares\n",
            "Función objetivo: 0.31\n"
          ]
        }
      ]
    },
    {
      "cell_type": "markdown",
      "metadata": {
        "id": "45Kbgo45PQOD"
      },
      "source": [
        "Matriz 9x9"
      ]
    },
    {
      "cell_type": "code",
      "metadata": {
        "id": "y44kyd0sb7_R"
      },
      "source": [
        "r3 = samples(9,4,nsamples)"
      ],
      "execution_count": null,
      "outputs": []
    },
    {
      "cell_type": "code",
      "metadata": {
        "colab": {
          "base_uri": "https://localhost:8080/",
          "height": 282
        },
        "id": "Jo9RXil2cXct",
        "outputId": "9f454de0-2b1c-4e7b-c1aa-f55584c047a0"
      },
      "source": [
        "plt.imshow(r3[nsamples-1][0])"
      ],
      "execution_count": null,
      "outputs": [
        {
          "output_type": "execute_result",
          "data": {
            "text/plain": [
              "<matplotlib.image.AxesImage at 0x7fc6dde8b8d0>"
            ]
          },
          "metadata": {},
          "execution_count": 175
        },
        {
          "output_type": "display_data",
          "data": {
            "image/png": "[encoded data removed]",
            "text/plain": [
              "<Figure size 432x288 with 1 Axes>"
            ]
          },
          "metadata": {
            "needs_background": "light"
          }
        }
      ]
    },
    {
      "cell_type": "code",
      "metadata": {
        "colab": {
          "base_uri": "https://localhost:8080/"
        },
        "id": "L4vA6vDCdL1M",
        "outputId": "77d95002-212a-4332-98f4-bbe5f08a4e76"
      },
      "source": [
        "analisis(r3,nsamples-1)"
      ],
      "execution_count": null,
      "outputs": [
        {
          "output_type": "stream",
          "name": "stdout",
          "text": [
            "Número total de turbinas: 24.0\n",
            "Potencia total de salida: 69.76 MW\n",
            "Eficiencia de la distribución: 0.87\n",
            "Costo estimado del cableado: 142.66 millones de dólares\n",
            "Función objetivo: 0.42\n"
          ]
        }
      ]
    },
    {
      "cell_type": "markdown",
      "metadata": {
        "id": "EH_pikCPDL27"
      },
      "source": [
        "### Caso N°3: Matriz 7x7 y matriz 9x9, 10 y 6 turbinas con posiciones aleatorias, respectivamente, 26 turbinas en total"
      ]
    },
    {
      "cell_type": "markdown",
      "metadata": {
        "id": "QQZPzOVVPTBy"
      },
      "source": [
        "Matriz 7x7"
      ]
    },
    {
      "cell_type": "code",
      "metadata": {
        "id": "0Xp8fustrwnt"
      },
      "source": [
        "r4 = samples(7,10,nsamples)"
      ],
      "execution_count": null,
      "outputs": []
    },
    {
      "cell_type": "code",
      "metadata": {
        "colab": {
          "base_uri": "https://localhost:8080/",
          "height": 282
        },
        "id": "IOITiyIZr1Rd",
        "outputId": "98f6c429-73be-4aa9-9a37-34be324d2f6d"
      },
      "source": [
        "plt.imshow(r4[nsamples-1][0])"
      ],
      "execution_count": null,
      "outputs": [
        {
          "output_type": "execute_result",
          "data": {
            "text/plain": [
              "<matplotlib.image.AxesImage at 0x7fc6dccce450>"
            ]
          },
          "metadata": {},
          "execution_count": 184
        },
        {
          "output_type": "display_data",
          "data": {
            "image/png": "[encoded data removed]",
            "text/plain": [
              "<Figure size 432x288 with 1 Axes>"
            ]
          },
          "metadata": {
            "needs_background": "light"
          }
        }
      ]
    },
    {
      "cell_type": "code",
      "metadata": {
        "colab": {
          "base_uri": "https://localhost:8080/"
        },
        "id": "D9hNgGMOr15t",
        "outputId": "72a0884c-9fac-4f47-bbc3-aeced11b9454"
      },
      "source": [
        "analisis(r4,nsamples-1)"
      ],
      "execution_count": null,
      "outputs": [
        {
          "output_type": "stream",
          "name": "stdout",
          "text": [
            "Número total de turbinas: 26.0\n",
            "Potencia total de salida: 55.37 MW\n",
            "Eficiencia de la distribución: 0.64\n",
            "Costo estimado del cableado: 131.20 millones de dólares\n",
            "Función objetivo: 0.27\n"
          ]
        }
      ]
    },
    {
      "cell_type": "markdown",
      "metadata": {
        "id": "LTKlOMFpPUOA"
      },
      "source": [
        "Matriz 9x9"
      ]
    },
    {
      "cell_type": "code",
      "metadata": {
        "id": "jnKzQPltr2ZV"
      },
      "source": [
        "r5 = samples(9,6,nsamples)"
      ],
      "execution_count": null,
      "outputs": []
    },
    {
      "cell_type": "code",
      "metadata": {
        "colab": {
          "base_uri": "https://localhost:8080/",
          "height": 282
        },
        "id": "NM6md7arr2ny",
        "outputId": "0cca6d41-4900-4b0e-d98f-0dede0cc2b35"
      },
      "source": [
        "plt.imshow(r5[nsamples-1][0])"
      ],
      "execution_count": null,
      "outputs": [
        {
          "output_type": "execute_result",
          "data": {
            "text/plain": [
              "<matplotlib.image.AxesImage at 0x7fc6dcc54290>"
            ]
          },
          "metadata": {},
          "execution_count": 206
        },
        {
          "output_type": "display_data",
          "data": {
            "image/png": "[encoded data removed]",
            "text/plain": [
              "<Figure size 432x288 with 1 Axes>"
            ]
          },
          "metadata": {
            "needs_background": "light"
          }
        }
      ]
    },
    {
      "cell_type": "code",
      "metadata": {
        "colab": {
          "base_uri": "https://localhost:8080/"
        },
        "id": "D_N-sJ4Ir2-L",
        "outputId": "1871fb68-5d86-44d7-bcda-3fde4cc4a368"
      },
      "source": [
        "analisis(r5,nsamples-1)"
      ],
      "execution_count": null,
      "outputs": [
        {
          "output_type": "stream",
          "name": "stdout",
          "text": [
            "Número total de turbinas: 26.0\n",
            "Potencia total de salida: 74.02 MW\n",
            "Eficiencia de la distribución: 0.85\n",
            "Costo estimado del cableado: 153.08 millones de dólares\n",
            "Función objetivo: 0.41\n"
          ]
        }
      ]
    },
    {
      "cell_type": "markdown",
      "metadata": {
        "id": "xdOmAU69DxWN"
      },
      "source": [
        "### Caso N°4: Matriz 7x7 y matriz 9x9, 12 y 8 turbinas con posiciones aleatorias, respectivamente, 28 turbinas en total"
      ]
    },
    {
      "cell_type": "markdown",
      "metadata": {
        "id": "VGffxKPDPWrZ"
      },
      "source": [
        "Matriz 7x7"
      ]
    },
    {
      "cell_type": "code",
      "metadata": {
        "id": "Wwl53xRGvrtF"
      },
      "source": [
        "r6 = samples(7,12,nsamples)"
      ],
      "execution_count": null,
      "outputs": []
    },
    {
      "cell_type": "code",
      "metadata": {
        "colab": {
          "base_uri": "https://localhost:8080/",
          "height": 282
        },
        "id": "XifTzNxnvsBk",
        "outputId": "136676cb-2e1e-452f-de32-b27269f77919"
      },
      "source": [
        "plt.imshow(r6[nsamples-1][0])"
      ],
      "execution_count": null,
      "outputs": [
        {
          "output_type": "execute_result",
          "data": {
            "text/plain": [
              "<matplotlib.image.AxesImage at 0x7fc6dc4c6ed0>"
            ]
          },
          "metadata": {},
          "execution_count": 210
        },
        {
          "output_type": "display_data",
          "data": {
            "image/png": "[encoded data removed]",
            "text/plain": [
              "<Figure size 432x288 with 1 Axes>"
            ]
          },
          "metadata": {
            "needs_background": "light"
          }
        }
      ]
    },
    {
      "cell_type": "code",
      "metadata": {
        "colab": {
          "base_uri": "https://localhost:8080/"
        },
        "id": "CfVgppOsvsQ8",
        "outputId": "30eb2f31-39fc-4e40-e9e7-44b508849107"
      },
      "source": [
        "analisis(r6,nsamples-1)"
      ],
      "execution_count": null,
      "outputs": [
        {
          "output_type": "stream",
          "name": "stdout",
          "text": [
            "Número total de turbinas: 28.0\n",
            "Potencia total de salida: 54.41 MW\n",
            "Eficiencia de la distribución: 0.58\n",
            "Costo estimado del cableado: 139.26 millones de dólares\n",
            "Función objetivo: 0.23\n"
          ]
        }
      ]
    },
    {
      "cell_type": "markdown",
      "metadata": {
        "id": "88-DI1j4PYKx"
      },
      "source": [
        "Matriz 9x9"
      ]
    },
    {
      "cell_type": "code",
      "metadata": {
        "id": "5-3imTVbvses"
      },
      "source": [
        "r7 = samples(9,8,nsamples)"
      ],
      "execution_count": null,
      "outputs": []
    },
    {
      "cell_type": "code",
      "metadata": {
        "colab": {
          "base_uri": "https://localhost:8080/",
          "height": 282
        },
        "id": "D4YINJl3vstX",
        "outputId": "6a05871b-0062-4cd7-aaee-b91ae0b5d846"
      },
      "source": [
        "plt.imshow(r7[nsamples-1][0])"
      ],
      "execution_count": null,
      "outputs": [
        {
          "output_type": "execute_result",
          "data": {
            "text/plain": [
              "<matplotlib.image.AxesImage at 0x7fc6dcc3aa90>"
            ]
          },
          "metadata": {},
          "execution_count": 214
        },
        {
          "output_type": "display_data",
          "data": {
            "image/png": "[encoded data removed]",
            "text/plain": [
              "<Figure size 432x288 with 1 Axes>"
            ]
          },
          "metadata": {
            "needs_background": "light"
          }
        }
      ]
    },
    {
      "cell_type": "code",
      "metadata": {
        "colab": {
          "base_uri": "https://localhost:8080/"
        },
        "id": "YZ56ToLyvs9N",
        "outputId": "2058980c-8fdd-4922-9d3c-5b510b84cee5"
      },
      "source": [
        "analisis(r7,nsamples-1)"
      ],
      "execution_count": null,
      "outputs": [
        {
          "output_type": "stream",
          "name": "stdout",
          "text": [
            "Número total de turbinas: 28.0\n",
            "Potencia total de salida: 76.64 MW\n",
            "Eficiencia de la distribución: 0.82\n",
            "Costo estimado del cableado: 162.91 millones de dólares\n",
            "Función objetivo: 0.38\n"
          ]
        }
      ]
    },
    {
      "cell_type": "markdown",
      "metadata": {
        "id": "fN1wn2KgEIG1"
      },
      "source": [
        "### Caso N°5: Matriz 7x7 y matriz 9x9, 14 y 10 turbinas con posiciones aleatorias, respectivamente, 30 turbinas en total"
      ]
    },
    {
      "cell_type": "markdown",
      "metadata": {
        "id": "ocC9VSKqPaxR"
      },
      "source": [
        "Matriz 7x7"
      ]
    },
    {
      "cell_type": "code",
      "metadata": {
        "id": "X4VpMoMgxAcC"
      },
      "source": [
        "r8 = samples(7,14,nsamples)"
      ],
      "execution_count": null,
      "outputs": []
    },
    {
      "cell_type": "code",
      "metadata": {
        "colab": {
          "base_uri": "https://localhost:8080/",
          "height": 282
        },
        "id": "vQCh6zNuxARD",
        "outputId": "adb30325-aed3-4049-e378-fb3536ca3aa3"
      },
      "source": [
        "plt.imshow(r8[nsamples-1][0])"
      ],
      "execution_count": null,
      "outputs": [
        {
          "output_type": "execute_result",
          "data": {
            "text/plain": [
              "<matplotlib.image.AxesImage at 0x7fc6dbc56c90>"
            ]
          },
          "metadata": {},
          "execution_count": 219
        },
        {
          "output_type": "display_data",
          "data": {
            "image/png": "[encoded data removed]",
            "text/plain": [
              "<Figure size 432x288 with 1 Axes>"
            ]
          },
          "metadata": {
            "needs_background": "light"
          }
        }
      ]
    },
    {
      "cell_type": "code",
      "metadata": {
        "colab": {
          "base_uri": "https://localhost:8080/"
        },
        "id": "mHv5NqllxAIq",
        "outputId": "53505b39-1528-46e0-bbdc-71bcbda5901f"
      },
      "source": [
        "analisis(r8,nsamples-1)"
      ],
      "execution_count": null,
      "outputs": [
        {
          "output_type": "stream",
          "name": "stdout",
          "text": [
            "Número total de turbinas: 30.0\n",
            "Potencia total de salida: 53.27 MW\n",
            "Eficiencia de la distribución: 0.53\n",
            "Costo estimado del cableado: 149.10 millones de dólares\n",
            "Función objetivo: 0.19\n"
          ]
        }
      ]
    },
    {
      "cell_type": "markdown",
      "metadata": {
        "id": "NJQi78zbPb-a"
      },
      "source": [
        "Matriz 9x9"
      ]
    },
    {
      "cell_type": "code",
      "metadata": {
        "id": "hi6-GBHiw_7e"
      },
      "source": [
        "r9 = samples(9,10,nsamples)"
      ],
      "execution_count": null,
      "outputs": []
    },
    {
      "cell_type": "code",
      "metadata": {
        "colab": {
          "base_uri": "https://localhost:8080/",
          "height": 282
        },
        "id": "Fcmk1PnMw_zb",
        "outputId": "c44e4aaf-e733-4502-f6b2-955481954337"
      },
      "source": [
        "plt.imshow(r9[nsamples-1][0])"
      ],
      "execution_count": null,
      "outputs": [
        {
          "output_type": "execute_result",
          "data": {
            "text/plain": [
              "<matplotlib.image.AxesImage at 0x7fc6db883b90>"
            ]
          },
          "metadata": {},
          "execution_count": 222
        },
        {
          "output_type": "display_data",
          "data": {
            "image/png": "[encoded data removed]",
            "text/plain": [
              "<Figure size 432x288 with 1 Axes>"
            ]
          },
          "metadata": {
            "needs_background": "light"
          }
        }
      ]
    },
    {
      "cell_type": "code",
      "metadata": {
        "colab": {
          "base_uri": "https://localhost:8080/"
        },
        "id": "EJIn8Kkcw_o8",
        "outputId": "91c53425-6427-4c43-e9e9-7a5ea02bda40"
      },
      "source": [
        "analisis(r9,nsamples-1)"
      ],
      "execution_count": null,
      "outputs": [
        {
          "output_type": "stream",
          "name": "stdout",
          "text": [
            "Número total de turbinas: 30.0\n",
            "Potencia total de salida: 77.59 MW\n",
            "Eficiencia de la distribución: 0.77\n",
            "Costo estimado del cableado: 171.57 millones de dólares\n",
            "Función objetivo: 0.35\n"
          ]
        }
      ]
    }
  ]
}