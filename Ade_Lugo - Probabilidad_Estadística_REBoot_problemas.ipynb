{
 "cells": [
  {
   "cell_type": "code",
   "execution_count": 42,
   "id": "089fd2f1",
   "metadata": {},
   "outputs": [],
   "source": [
    "import numpy as np    #para operaciones matemáticas y demás\n",
    "import math           #para operaciones matemáticas avanzadas\n",
    "from scipy.integrate import quad   #para integración directa"
   ]
  },
  {
   "cell_type": "code",
   "execution_count": 43,
   "id": "4810c37b",
   "metadata": {},
   "outputs": [
    {
     "name": "stdout",
     "output_type": "stream",
     "text": [
      "Ejercicio 1\n"
     ]
    }
   ],
   "source": [
    "print('Ejercicio 1')"
   ]
  },
  {
   "cell_type": "code",
   "execution_count": 59,
   "id": "c233f08b",
   "metadata": {},
   "outputs": [
    {
     "name": "stdout",
     "output_type": "stream",
     "text": [
      "La integral mediante método númerico da: 0.49950000000000017\n",
      "Considerando sólo dos decimales: 0.5\n",
      "La integral mediante integración directa da: 0.5\n"
     ]
    }
   ],
   "source": [
    "# Definición de la función f(x)=x\n",
    "\n",
    "def f(x):\n",
    "    return x\n",
    "\n",
    "# MÉTODO NUMÉRICO\n",
    "\n",
    "# Iniciación de variables y constantes\n",
    "\n",
    "dx = 0.001   #tamaño del infinitesimal\n",
    "integral = 0.  #iniciación de conteo para la integral\n",
    "a = 0. #límite inferior\n",
    "b = 1. #límite superior\n",
    "\n",
    "s = math.floor(b/dx)  #número de pasos\n",
    "\n",
    "for i in range(s):\n",
    "    x = 0 + i*dx\n",
    "    integral = integral + f(x)*dx\n",
    "    \n",
    "print('La integral mediante método númerico da:', integral)   #impresión del valor completo\n",
    "print('Considerando sólo dos decimales:', \"%.1f\" % integral)  #impresión con sólo un decimales  \n",
    "\n",
    "# MÉTODO DIRECTO CON LIBRERÍAS\n",
    "\n",
    "integral_,error = quad(f, a, b)  #invocar función integral (función, límite inferior, límite superior)\n",
    "                                           #la integral arroja una dupla: resultado y error\n",
    "print('La integral mediante integración directa da:', integral_)  #impresión del resultado de la integral solamente"
   ]
  },
  {
   "cell_type": "code",
   "execution_count": 45,
   "id": "f2570a30",
   "metadata": {},
   "outputs": [
    {
     "name": "stdout",
     "output_type": "stream",
     "text": [
      "Ejercicio 2\n"
     ]
    }
   ],
   "source": [
    "print ('Ejercicio 2')"
   ]
  },
  {
   "cell_type": "code",
   "execution_count": 62,
   "id": "d78ea2f2",
   "metadata": {},
   "outputs": [
    {
     "name": "stdout",
     "output_type": "stream",
     "text": [
      "La probabilidad de que la partícula tenga una masa mayor a 5 es: 0.1888756028375619\n",
      "Redondeando:  0.189\n"
     ]
    }
   ],
   "source": [
    "# Definición de constantes\n",
    "\n",
    "a = 1/3.\n",
    "\n",
    "# Definición de la función de interés\n",
    "\n",
    "def m(x):\n",
    "    return a * np.exp(-a*x) \n",
    "\n",
    "lim_inf = 5.\n",
    "lim_sup = np.inf\n",
    "\n",
    "# Determinación de probabilidad\n",
    "\n",
    "prob,error = quad(m, lim_inf, lim_sup) #invocar función de integración\n",
    "print('La probabilidad de que la partícula tenga una masa mayor a 5 es:' , prob)  #imprimir sólo valor de la integral\n",
    "print('Redondeando: ', \"%.3f\" % prob)  #impresión del valor con tres decimales"
   ]
  },
  {
   "cell_type": "code",
   "execution_count": 63,
   "id": "95fa78d9",
   "metadata": {},
   "outputs": [
    {
     "name": "stdout",
     "output_type": "stream",
     "text": [
      "Ejercicio 3\n"
     ]
    }
   ],
   "source": [
    "print('Ejercicio 3')"
   ]
  },
  {
   "cell_type": "code",
   "execution_count": 64,
   "id": "d85ed97b",
   "metadata": {},
   "outputs": [
    {
     "name": "stdout",
     "output_type": "stream",
     "text": [
      "E[x]: 3.00 y V[x]= 16.00\n"
     ]
    }
   ],
   "source": [
    "# Definición de constantes\n",
    "\n",
    "# constantes\n",
    "mu = 3.\n",
    "sigma = 4.\n",
    "\n",
    "#límites de integración\n",
    "lim_inf = -np.inf\n",
    "lim_sup = np.inf\n",
    "\n",
    "# Definición de integrando (con x)\n",
    "\n",
    "def Gauss(x):\n",
    "    w = -1/2. * ((x-mu)/sigma)**2\n",
    "    a = sigma * np.sqrt(2.*np.pi)\n",
    "    return x * (1./a) * np.exp(w)\n",
    "\n",
    "# Definición de integrando (con x^2)\n",
    "\n",
    "def Gauss_(x):\n",
    "    w = -1/2. * ((x-mu)/sigma)**2\n",
    "    a = sigma * np.sqrt(2.*np.pi)\n",
    "    return (x**2) * (1./a) * np.exp(w)\n",
    "\n",
    "# Valor esperado (para x)\n",
    "\n",
    "int_E,error = quad(Gauss, lim_inf, lim_sup)\n",
    "\n",
    "# Valor esperado (para x^2)\n",
    "\n",
    "int_E_x,error = quad(Gauss_, lim_inf, lim_sup)\n",
    "\n",
    "# Cálculo de varianza\n",
    "\n",
    "V = int_E_x - (int_E)**2\n",
    "\n",
    "print('E[x]:', \"%.2f\" % int_E, 'y V[x]=', \"%.2f\" % V) #impresión de resultados con sólo dos decimales"
   ]
  }
 ],
 "metadata": {
  "kernelspec": {
   "display_name": "Python 3",
   "language": "python",
   "name": "python3"
  },
  "language_info": {
   "codemirror_mode": {
    "name": "ipython",
    "version": 3
   },
   "file_extension": ".py",
   "mimetype": "text/x-python",
   "name": "python",
   "nbconvert_exporter": "python",
   "pygments_lexer": "ipython3",
   "version": "3.8.8"
  }
 },
 "nbformat": 4,
 "nbformat_minor": 5
}
